{
 "cells": [
  {
   "cell_type": "code",
   "execution_count": 1,
   "id": "d825abf8-acd1-4dcc-b2ea-7bd19f66b12b",
   "metadata": {},
   "outputs": [],
   "source": [
    "import numpy as np"
   ]
  },
  {
   "cell_type": "code",
   "execution_count": 6,
   "id": "5e9c2f6a-6554-4e88-83cd-e6f668bd65ae",
   "metadata": {},
   "outputs": [
    {
     "name": "stdin",
     "output_type": "stream",
     "text": [
      "Enter the nuumber :  9000\n"
     ]
    },
    {
     "name": "stdout",
     "output_type": "stream",
     "text": [
      "main else ke andar aa gaye hain hum \n",
      "namaloom else ke andar aa gaye hain hum \n",
      "main else ke andar aa gaye hain hum \n",
      "namaloom else ke andar aa gaye hain hum \n",
      "main else ke andar aa gaye hain hum \n",
      "namaloom else ke andar aa gaye hain hum \n",
      "main else ke andar aa gaye hain hum \n",
      "namaloom else ke andar aa gaye hain hum \n",
      "main else ke andar aa gaye hain hum \n",
      "namaloom else ke andar aa gaye hain hum \n",
      "main else ke andar aa gaye hain hum \n",
      "namaloom else ke andar aa gaye hain hum \n",
      "main else ke andar aa gaye hain hum \n",
      "namaloom else ke andar aa gaye hain hum \n",
      "main else ke andar aa gaye hain hum \n",
      "namaloom else ke andar aa gaye hain hum \n",
      "['M', 'M', 'M', 'M', 'M', 'M', 'M', 'M', 'M']\n"
     ]
    }
   ],
   "source": [
    "dict={1:\"I\",2:'II',3:\"III\",4:\"IV\",5:\"V\",6:\"VI\",7:\"VII\",8:\"VIII\",9:\"IX\",10:\"X\",50:\"L\",100:\"C\",500:\"D\",1000:\"M\",900:\"CM\",90:'XC'}\n",
    "l=[1,2,3,4,5,6,7,8,9,10,50,100,500,1000,900,90]\n",
    "res=[]\n",
    "n=int(input(\"Enter the nuumber : \"))\n",
    "v=[]\n",
    "x=0\n",
    "if n in dict.keys():\n",
    "    print(dict[n])\n",
    "else:\n",
    "    while(n>0):\n",
    "        if n in dict.keys():\n",
    "            res.append(dict[n])\n",
    "            n=0\n",
    "            x=0\n",
    "        else:\n",
    "            print(\"main else ke andar aa gaye hain hum \")\n",
    "            for i in range (len(l)):\n",
    "                m=n-l[i]\n",
    "                if(m>0):\n",
    "                    v.append(m)\n",
    "                x=min(v)\n",
    "            # else:\n",
    "            print(\"namaloom else ke andar aa gaye hain hum \")\n",
    "            for i in range(len(l)):\n",
    "                    c=l[i]+x\n",
    "                    if(c==n):\n",
    "                        res.append(dict[l[i]])\n",
    "        n=x\n",
    "            \n",
    "r=str(res)\n",
    "print(r)"
   ]
  }
 ],
 "metadata": {
  "kernelspec": {
   "display_name": "Python 3 (ipykernel)",
   "language": "python",
   "name": "python3"
  },
  "language_info": {
   "codemirror_mode": {
    "name": "ipython",
    "version": 3
   },
   "file_extension": ".py",
   "mimetype": "text/x-python",
   "name": "python",
   "nbconvert_exporter": "python",
   "pygments_lexer": "ipython3",
   "version": "3.12.0"
  }
 },
 "nbformat": 4,
 "nbformat_minor": 5
}
