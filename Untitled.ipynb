{
 "cells": [
  {
   "cell_type": "code",
   "execution_count": 12,
   "id": "106742cd-dbdf-47c9-9d88-8a6a565d4a3e",
   "metadata": {},
   "outputs": [
    {
     "name": "stdin",
     "output_type": "stream",
     "text": [
      "Enter the number :  6437\n"
     ]
    },
    {
     "name": "stdout",
     "output_type": "stream",
     "text": [
      "['M', 'M', 'M', 'M', 'M', 'M', 'CD', 'X', 'X', 'X', 'V', 'I', 'I']\n"
     ]
    }
   ],
   "source": [
    "# integer to roman\n",
    "dict={1:\"I\",4:\"IV\",5:\"V\",9:\"IX\",10:\"X\",40:'XL',50:\"L\",100:\"C\",400:'CD',500:\"D\",1000:\"M\",900:\"CM\",90:'XC'}\n",
    "l=[1,4,5,9,10,40,50,100,400,500,1000,900,90]\n",
    "res=[]\n",
    "n=int(input(\"Enter the number : \"))\n",
    "v=[]\n",
    "x=0\n",
    "if n in dict.keys():\n",
    "    print(dict[n])\n",
    "else:\n",
    "    while(n>0):\n",
    "        if n in dict.keys():\n",
    "            res.append(dict[n])\n",
    "            n=0\n",
    "            x=0\n",
    "        else:\n",
    "            for i in range (len(l)):\n",
    "                m=n-l[i]\n",
    "                if(m>0):\n",
    "                    v.append(m)\n",
    "                x=min(v)\n",
    "            for i in range(len(l)):\n",
    "                c=l[i]+x\n",
    "                if(c==n):\n",
    "                    res.append(dict[l[i]])\n",
    "        n=x\n",
    "            \n",
    "r=str(res)\n",
    "print(r)"
   ]
  },
  {
   "cell_type": "code",
   "execution_count": 92,
   "id": "19947952-085d-4ff9-8588-82203d3175e9",
   "metadata": {},
   "outputs": [
    {
     "name": "stdin",
     "output_type": "stream",
     "text": [
      "enter roman value :  CC\n"
     ]
    },
    {
     "name": "stdout",
     "output_type": "stream",
     "text": [
      "2\n",
      "i is now :  0\n",
      "i is now :  1\n",
      "C -> 100\n"
     ]
    },
    {
     "ename": "IndexError",
     "evalue": "string index out of range",
     "output_type": "error",
     "traceback": [
      "\u001b[1;31m---------------------------------------------------------------------------\u001b[0m",
      "\u001b[1;31mIndexError\u001b[0m                                Traceback (most recent call last)",
      "Cell \u001b[1;32mIn[92], line 19\u001b[0m\n\u001b[0;32m     17\u001b[0m         temp \u001b[38;5;241m=\u001b[39m integerList[j]\n\u001b[0;32m     18\u001b[0m         tempInd \u001b[38;5;241m=\u001b[39m i\u001b[38;5;241m+\u001b[39m\u001b[38;5;241m1\u001b[39m\n\u001b[1;32m---> 19\u001b[0m         nextLetter \u001b[38;5;241m=\u001b[39m \u001b[38;5;28;43mstr\u001b[39;49m\u001b[43m[\u001b[49m\u001b[43mtempInd\u001b[49m\u001b[43m]\u001b[49m\n\u001b[0;32m     20\u001b[0m \u001b[38;5;28;01melse\u001b[39;00m:\n\u001b[0;32m     21\u001b[0m     \u001b[38;5;28;01mif\u001b[39;00m (\u001b[38;5;28mstr\u001b[39m[i] \u001b[38;5;241m==\u001b[39m romanList[j]):\n",
      "\u001b[1;31mIndexError\u001b[0m: string index out of range"
     ]
    }
   ],
   "source": [
    "# roman to integer\n",
    "str = input(prompt = \"enter roman value : \")\n",
    "romanList = ['I','IV','V','IX','X','XL','L','XC','C','XD','D','XM','M']\n",
    "integerList = [1,4,5,9,10,40,50,90,100,400,500,900,1000]\n",
    "# traversing onto string\n",
    "res = 0\n",
    "flag = False\n",
    "print(len(str))\n",
    "for i in range(len(str)):\n",
    "    print(\"i is now : \",i)\n",
    "    for j in range(len(romanList)):\n",
    "        if i == len(str) - 1:\n",
    "            flag = True\n",
    "        if flag:\n",
    "            if (str[i] == romanList[j]):\n",
    "                print(str[i] , \"->\" ,integerList[j])\n",
    "                temp = integerList[j]\n",
    "                tempInd = i+1\n",
    "                nextLetter = str[tempInd]\n",
    "        else:\n",
    "            if (str[i] == romanList[j]):\n",
    "                res += integerList[j]\n",
    "        # if (str[i] == romanList[j]):\n",
    "        #     print(str[i] , \"->\" ,integerList[j])\n",
    "        #     temp = integerList[j]\n",
    "        #     if integerList[str[i+1]] == temp:\n",
    "        #         print('inside last if')\n",
    "        #         res += integerList[j]\n",
    "        #         print(\"RESULT IS \",res)\n",
    "        #         break\n",
    "        #     elif integerList[i] < integerList[i+1]:\n",
    "        #         print('inside elif')\n",
    "        #         # temp = \n",
    "        #         res += integerList[j]\n",
    "        #     else:\n",
    "        #         print(\"inside else\")\n",
    "        #         res += integerList[j]\n",
    "        \n",
    "print(res)"
   ]
  },
  {
   "cell_type": "code",
   "execution_count": 74,
   "id": "1d382395-3f2f-4d47-9d76-ee2e91a825a4",
   "metadata": {},
   "outputs": [
    {
     "name": "stdin",
     "output_type": "stream",
     "text": [
      "Enter the string:  MCMXCIV\n"
     ]
    },
    {
     "name": "stdout",
     "output_type": "stream",
     "text": [
      "Me x hu  0\n",
      "Me m hu 13\n",
      "M result hu  1000\n",
      "Me x hu  9\n",
      "Me m hu 13\n",
      "M result hu  1900\n",
      "Me x hu  5\n",
      "Me m hu 9\n",
      "M result hu  1990\n",
      "Me x hu  1\n",
      "Me m hu 3\n",
      "M result hu  1994\n",
      "1994\n"
     ]
    }
   ],
   "source": [
    "dict={'0':0,\"I\":1,\"IV\":4,\"V\":5,\"IX\":9,\"X\":10,'XL':40,\"L\":50,'XC':90,\"C\":100,'CD':400,\"D\":500,\"CM\":900,\"M\":1000}\n",
    "l=[\"0\",\"I\",\"IV\",\"V\",\"IX\",\"X\",\"XL\",\"L\",\"XC\",\"C\",\"CD\",\"D\",\"CM\",\"M\"]\n",
    "res=0\n",
    "n=input(\"Enter the string: \")\n",
    "x=0\n",
    "m=0\n",
    "if n in dict.keys():\n",
    "    print(dict[n])\n",
    "else:\n",
    "        if(len(n)%2!=0):\n",
    "            b=list(n)\n",
    "            b.insert(0,'0')\n",
    "            n = ''.join(b)\n",
    "        for i in range(0,len(n),2):\n",
    "            for j in range(len(l)):\n",
    "                if n[i] == l[j]:\n",
    "                    x=j\n",
    "                    print(\"Me x hu \",x)\n",
    "            for j in range(len(l)):\n",
    "                if n[i+1] == l[j]:\n",
    "                    m=j\n",
    "                    print(\"Me m hu\",m)\n",
    "            if(m>x):\n",
    "                res+=dict[n[i+1]]-dict[n[i]]\n",
    "                print(\"M result hu \",res)\n",
    "            elif(m<=x):\n",
    "                res+=dict[n[i+1]]+dict[n[i]]\n",
    "                print(\"M result hu else wala \",res)\n",
    "\n",
    "\n",
    "print(res)"
   ]
  },
  {
   "cell_type": "code",
   "execution_count": 94,
   "id": "cd0827d2-94a5-4574-a1da-be7359a3c696",
   "metadata": {},
   "outputs": [
    {
     "name": "stdin",
     "output_type": "stream",
     "text": [
      "Enter the string:  III\n"
     ]
    },
    {
     "name": "stdout",
     "output_type": "stream",
     "text": [
      "3\n"
     ]
    }
   ],
   "source": [
    "class Solution:\n",
    "    def romanToInt(self, s: str) -> int:\n",
    "        dict={'0':0,\"I\":1,\"IV\":4,\"V\":5,\"IX\":9,\"X\":10,'XL':40,\"L\":50,'XC':90,\"C\":100,'CD':400,\"D\":500,\"CM\":900,\"M\":1000}\n",
    "        l=[\"0\",\"I\",\"IV\",\"V\",\"IX\",\"X\",\"XL\",\"L\",\"XC\",\"C\",\"CD\",\"D\",\"CM\",\"M\"]\n",
    "        res=0\n",
    "        x=0\n",
    "        m=0\n",
    "        n=s\n",
    "        if n in dict.keys():\n",
    "            print(dict[n])\n",
    "        else:\n",
    "                if(len(n)%2!=0):\n",
    "                    b=list(n)\n",
    "                    b.insert(0,'0')\n",
    "                    n = ''.join(b)\n",
    "                for i in range(0,len(n),2):\n",
    "                    for j in range(len(l)):\n",
    "                        if n[i] == l[j]:\n",
    "                            x=j\n",
    "                    for j in range(len(l)):\n",
    "                        if n[i+1] == l[j]:\n",
    "                            m=j\n",
    "                    if(m>x):\n",
    "                        res+=dict[n[i+1]]-dict[n[i]]\n",
    "                    elif(m<=x):\n",
    "                        res+=dict[n[i+1]]+dict[n[i]]\n",
    "        return res\n",
    "    \n",
    "sol= Solution()\n",
    "n=input(\"Enter the string: \")\n",
    "print(sol.romanToInt(n))"
   ]
  }
 ],
 "metadata": {
  "kernelspec": {
   "display_name": "Python 3 (ipykernel)",
   "language": "python",
   "name": "python3"
  },
  "language_info": {
   "codemirror_mode": {
    "name": "ipython",
    "version": 3
   },
   "file_extension": ".py",
   "mimetype": "text/x-python",
   "name": "python",
   "nbconvert_exporter": "python",
   "pygments_lexer": "ipython3",
   "version": "3.12.0"
  }
 },
 "nbformat": 4,
 "nbformat_minor": 5
}
